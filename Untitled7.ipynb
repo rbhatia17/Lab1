{
 "cells": [
  {
   "cell_type": "code",
   "execution_count": 1,
   "metadata": {
    "collapsed": true
   },
   "outputs": [],
   "source": [
    "import pandas as pd\n",
    "import csv"
   ]
  },
  {
   "cell_type": "code",
   "execution_count": 2,
   "metadata": {},
   "outputs": [
    {
     "data": {
      "text/plain": [
       "'/Users/rachitabhatia'"
      ]
     },
     "execution_count": 2,
     "metadata": {},
     "output_type": "execute_result"
    }
   ],
   "source": [
    "pwd"
   ]
  },
  {
   "cell_type": "code",
   "execution_count": 3,
   "metadata": {},
   "outputs": [
    {
     "name": "stdout",
     "output_type": "stream",
     "text": [
      "/Users/rachitabhatia/Desktop\n"
     ]
    }
   ],
   "source": [
    "cd desktop"
   ]
  },
  {
   "cell_type": "code",
   "execution_count": 8,
   "metadata": {},
   "outputs": [
    {
     "name": "stdout",
     "output_type": "stream",
     "text": [
      "Lab1(db).csv\r\n"
     ]
    }
   ],
   "source": [
    "ls"
   ]
  },
  {
   "cell_type": "code",
   "execution_count": 9,
   "metadata": {},
   "outputs": [],
   "source": [
    "lab1_db = pd.read_csv('lab1(db).csv')"
   ]
  },
  {
   "cell_type": "code",
   "execution_count": 10,
   "metadata": {
    "collapsed": true
   },
   "outputs": [],
   "source": [
    "with open(\"lab1(db).csv\",'r') as f, open(\"lab1_db.csv\",'w') as f1:\n",
    "    next(f) # skip header line\n",
    "    for line in f:\n",
    "        f1.write(line)"
   ]
  },
  {
   "cell_type": "code",
   "execution_count": 11,
   "metadata": {
    "collapsed": true
   },
   "outputs": [],
   "source": [
    "lab1_db = pd.read_csv('lab1_db.csv')"
   ]
  },
  {
   "cell_type": "code",
   "execution_count": 12,
   "metadata": {
    "collapsed": true
   },
   "outputs": [],
   "source": [
    "lab1_db = lab1_db.dropna(subset=['Entity'], how='any')\n"
   ]
  },
  {
   "cell_type": "code",
   "execution_count": 14,
   "metadata": {},
   "outputs": [
    {
     "data": {
      "text/plain": [
       "Entity                   object\n",
       "alternative name         object\n",
       "story                    object\n",
       "YEAR                     object\n",
       "records lost             object\n",
       "ORGANISATION             object\n",
       "METHOD OF LEAK           object\n",
       "interesting story        object\n",
       "NO OF RECORDS STOLEN     object\n",
       "DATA SENSITIVITY         object\n",
       "UNUSED                  float64\n",
       "UNUSED.1                float64\n",
       "Exclude                  object\n",
       "Unnamed: 13              object\n",
       "1st source link          object\n",
       "2nd source link          object\n",
       "3rd source               object\n",
       "source name              object\n",
       "dtype: object"
      ]
     },
     "execution_count": 14,
     "metadata": {},
     "output_type": "execute_result"
    }
   ],
   "source": []
  },
  {
   "cell_type": "code",
   "execution_count": 15,
   "metadata": {
    "collapsed": true
   },
   "outputs": [],
   "source": [
    "lab1_db = lab1_db[['Entity','story','YEAR','ORGANISATION','METHOD OF LEAK','NO OF RECORDS STOLEN','DATA SENSITIVITY','source name']]\n",
    "lab1_db.columns = ['ENTITY','STORY','YEAR','ORGANISATION','METHOD OF LEAK','NO OF RECORDS STOLEN','DATA SENSITIVITY', 'SOURCE NAME']"
   ]
  },
  {
   "cell_type": "code",
   "execution_count": 17,
   "metadata": {},
   "outputs": [],
   "source": [
    "lab1_db.loc[lab1_db['YEAR'] == '0', 'YEAR'] = 2004\n",
    "lab1_db.loc[lab1_db['YEAR'] == '1', 'YEAR'] = 2005\n",
    "lab1_db.loc[lab1_db['YEAR'] == '2', 'YEAR'] = 2006\n",
    "lab1_db.loc[lab1_db['YEAR'] == '3', 'YEAR'] = 2007\n",
    "lab1_db.loc[lab1_db['YEAR'] == '4', 'YEAR'] = 2008\n",
    "lab1_db.loc[lab1_db['YEAR'] == '5', 'YEAR'] = 2009\n",
    "lab1_db.loc[lab1_db['YEAR'] == '6', 'YEAR'] = 2010\n",
    "lab1_db.loc[lab1_db['YEAR'] == '7', 'YEAR'] = 2011\n",
    "lab1_db.loc[lab1_db['YEAR'] == '8', 'YEAR'] = 2012\n",
    "lab1_db.loc[lab1_db['YEAR'] == '9', 'YEAR'] = 2013\n",
    "lab1_db.loc[lab1_db['YEAR'] == '10', 'YEAR'] = 2014\n",
    "lab1_db.loc[lab1_db['YEAR'] == '11', 'YEAR'] = 2015\n",
    "lab1_db.loc[lab1_db['YEAR'] == '12', 'YEAR'] = 2016\n",
    "lab1_db.loc[lab1_db['YEAR'] == '13', 'YEAR'] = 2017\n",
    "lab1_db.loc[lab1_db['YEAR'] == '14', 'YEAR'] = 'latest'"
   ]
  },
  {
   "cell_type": "code",
   "execution_count": 18,
   "metadata": {
    "collapsed": true
   },
   "outputs": [],
   "source": [
    "lab1_db.loc[lab1_db['DATA SENSITIVITY'] == '1', 'DATA SENSITIVITY'] = 'Just email address/Online information'\n",
    "lab1_db.loc[lab1_db['DATA SENSITIVITY'] == '20', 'DATA SENSITIVITY'] = 'SSN/Personal details'\n",
    "lab1_db.loc[lab1_db['DATA SENSITIVITY'] == '300', 'DATA SENSITIVITY'] = 'Credit card information'\n",
    "lab1_db.loc[lab1_db['DATA SENSITIVITY'] == '4000', 'DATA SENSITIVITY'] = 'Email password/Health records'\n",
    "lab1_db.loc[lab1_db['DATA SENSITIVITY'] == '50000', 'DATA SENSITIVITY'] = 'Full bank account details'"
   ]
  },
  {
   "cell_type": "code",
   "execution_count": 19,
   "metadata": {
    "collapsed": true
   },
   "outputs": [],
   "source": [
    "lab1_db.to_csv('Information.csv')"
   ]
  },
  {
   "cell_type": "code",
   "execution_count": null,
   "metadata": {
    "collapsed": true
   },
   "outputs": [],
   "source": []
  }
 ],
 "metadata": {
  "kernelspec": {
   "display_name": "Python 3",
   "language": "python",
   "name": "python3"
  },
  "language_info": {
   "codemirror_mode": {
    "name": "ipython",
    "version": 3
   },
   "file_extension": ".py",
   "mimetype": "text/x-python",
   "name": "python",
   "nbconvert_exporter": "python",
   "pygments_lexer": "ipython3",
   "version": "3.6.1"
  }
 },
 "nbformat": 4,
 "nbformat_minor": 2
}
